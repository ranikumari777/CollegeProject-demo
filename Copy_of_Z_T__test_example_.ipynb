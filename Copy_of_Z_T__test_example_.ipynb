{
  "nbformat": 4,
  "nbformat_minor": 0,
  "metadata": {
    "colab": {
      "provenance": [],
      "include_colab_link": true
    },
    "kernelspec": {
      "name": "python3",
      "display_name": "Python 3"
    },
    "language_info": {
      "name": "python"
    }
  },
  "cells": [
    {
      "cell_type": "markdown",
      "metadata": {
        "id": "view-in-github",
        "colab_type": "text"
      },
      "source": [
        "<a href=\"https://colab.research.google.com/github/ranikumari777/CollegeProject-demo/blob/master/Copy_of_Z_T__test_example_.ipynb\" target=\"_parent\"><img src=\"https://colab.research.google.com/assets/colab-badge.svg\" alt=\"Open In Colab\"/></a>"
      ]
    },
    {
      "cell_type": "markdown",
      "source": [
        "Problem:\n",
        "A coffee company claims that its coffee cans contain an average of 400 grams of coffee. A quality inspector suspects that the actual average content is different. She takes a sample of 100 coffee cans and finds the average content to be 398 grams with a known population standard deviation of 8 grams. At a 5% significance level, can we conclude that the average coffee content is different from 400 grams?\n"
      ],
      "metadata": {
        "id": "dt7LOMzrCSfj"
      }
    },
    {
      "cell_type": "code",
      "execution_count": 1,
      "metadata": {
        "id": "9SPkPeVF2Mbk",
        "colab": {
          "base_uri": "https://localhost:8080/"
        },
        "outputId": "ada50515-febf-4fdb-b708-c23d7eb0ccbf"
      },
      "outputs": [
        {
          "output_type": "stream",
          "name": "stdout",
          "text": [
            "Z-score: -2.5\n",
            "P-value: 0.012419330651552318\n",
            "Reject the null hypothesis: There is a significant difference in coffee can weight.\n"
          ]
        }
      ],
      "source": [
        "import numpy as np\n",
        "from scipy import stats\n",
        "\n",
        "# Given data\n",
        "population_mean = 400   # Claimed mean weight\n",
        "population_std = 8      # Known standard deviation\n",
        "sample_size = 100       # Sample size\n",
        "sample_mean = 398       # Observed sample mean\n",
        "\n",
        "# Calculate the Z-score\n",
        "z_score = (sample_mean - population_mean) / (population_std / np.sqrt(sample_size))\n",
        "\n",
        "# Calculate the p-value for a two-tailed test\n",
        "p_value = 2 * (1 - stats.norm.cdf(abs(z_score)))\n",
        "\n",
        "print(f\"Z-score: {z_score}\")\n",
        "print(f\"P-value: {p_value}\")\n",
        "\n",
        "# Conclusion\n",
        "alpha = 0.05  # Significance level\n",
        "if p_value < alpha:\n",
        "    print(\"Reject the null hypothesis: There is a significant difference in coffee can weight.\")\n",
        "else:\n",
        "    print(\"Fail to reject the null hypothesis: No significant difference in coffee can weight.\")\n"
      ]
    },
    {
      "cell_type": "markdown",
      "source": [],
      "metadata": {
        "id": "QY1q9bP7QpOd"
      }
    },
    {
      "cell_type": "markdown",
      "source": [
        "Problem:\n",
        "A bakery advertises that its cookies contain an average of 50 grams of sugar. A customer doubts this and takes a random sample of 15 cookies, finding an average sugar content of 48 grams with a sample standard deviation of 5 grams. At a 5% significance level, can we conclude that the actual sugar content is different from 50 grams?\n"
      ],
      "metadata": {
        "id": "h6nAlSKBHqqS"
      }
    },
    {
      "cell_type": "code",
      "source": [
        "from scipy import stats\n",
        "\n",
        "# Given data\n",
        "population_mean = 50    # Claimed mean sugar content\n",
        "sample_size = 15        # Sample size\n",
        "sample_mean = 48        # Observed sample mean\n",
        "sample_std = 5          # Sample standard deviation\n",
        "\n",
        "# Generate a random sample close to the observed sample mean\n",
        "np.random.seed(0)\n",
        "sample = np.random.normal(sample_mean, sample_std, sample_size)\n",
        "\n",
        "# Perform the one-sample t-test\n",
        "t_statistic, p_value = stats.ttest_1samp(sample, population_mean)\n",
        "\n",
        "print(f\"T-statistic: {t_statistic}\")\n",
        "print(f\"P-value: {p_value}\")\n",
        "\n",
        "# Conclusion\n",
        "alpha = 0.05  # Significance level\n",
        "if p_value < alpha:\n",
        "    print(\"Reject the null hypothesis: There is a significant difference in sugar content.\")\n",
        "else:\n",
        "    print(\"Fail to reject the null hypothesis: No significant difference in sugar content.\")\n"
      ],
      "metadata": {
        "colab": {
          "base_uri": "https://localhost:8080/"
        },
        "id": "AHgHBNa2Hy60",
        "outputId": "d7542444-7bb5-488b-8930-bfe94caf50a7"
      },
      "execution_count": 2,
      "outputs": [
        {
          "output_type": "stream",
          "name": "stdout",
          "text": [
            "T-statistic: 1.274699248751995\n",
            "P-value: 0.22316646747711905\n",
            "Fail to reject the null hypothesis: No significant difference in sugar content.\n"
          ]
        }
      ]
    },
    {
      "cell_type": "markdown",
      "source": [
        "Problem:\n",
        "An education researcher wants to compare test scores between two classes that use different teaching methods. In Class A, the mean score of 15 students was 78 with a standard deviation of 10. In Class B, the mean score of 15 students was 85 with a standard deviation of 8. At a 5% significance level, is there a significant difference between the two classes' scores?\n",
        "1.\tSet up hypotheses:\n",
        "o\tNull Hypothesis (H₀): The mean score of Class A = Mean score of Class B.\n",
        "o\tAlternative Hypothesis (H₁): The mean scores are different.\n",
        "2.\tPerform a Two-Sample T-test.\n"
      ],
      "metadata": {
        "id": "BjRA5ddKIi_7"
      }
    },
    {
      "cell_type": "code",
      "source": [
        "# Given data for Class A\n",
        "mean_a = 78\n",
        "std_a = 10\n",
        "size_a = 15\n",
        "\n",
        "# Given data for Class B\n",
        "mean_b = 85\n",
        "std_b = 8\n",
        "size_b = 15\n",
        "\n",
        "# Generate random samples based on the mean and std deviation\n",
        "np.random.seed(0)\n",
        "class_a_scores = np.random.normal(mean_a, std_a, size_a)\n",
        "class_b_scores = np.random.normal(mean_b, std_b, size_b)\n",
        "\n",
        "# Perform the two-sample t-test\n",
        "t_statistic, p_value = stats.ttest_ind(class_a_scores, class_b_scores)\n",
        "\n",
        "print(f\"T-statistic: {t_statistic}\")\n",
        "print(f\"P-value: {p_value}\")\n",
        "\n",
        "# Conclusion\n",
        "alpha = 0.05  # Significance level\n",
        "if p_value < alpha:\n",
        "    print(\"Reject the null hypothesis: There is a significant difference in test scores between the classes.\")\n",
        "else:\n",
        "    print(\"Fail to reject the null hypothesis: No significant difference in test scores between the classes.\")\n"
      ],
      "metadata": {
        "colab": {
          "base_uri": "https://localhost:8080/"
        },
        "id": "iGVWqx3oIlNC",
        "outputId": "55f42757-9aa5-453d-ee6e-c94f6aa43778"
      },
      "execution_count": 3,
      "outputs": [
        {
          "output_type": "stream",
          "name": "stdout",
          "text": [
            "T-statistic: -0.49679550858596827\n",
            "P-value: 0.6232115193256857\n",
            "Fail to reject the null hypothesis: No significant difference in test scores between the classes.\n"
          ]
        }
      ]
    },
    {
      "cell_type": "markdown",
      "source": [
        "Chi-squared Test\n",
        "The Chi-squared test is used for categorical data to determine if there's a significant association between two variables."
      ],
      "metadata": {
        "id": "JErHW5fWQrtm"
      }
    },
    {
      "cell_type": "code",
      "source": [
        "import numpy as np\n",
        "from scipy.stats import chi2_contingency\n",
        "\n",
        "# Example: Contingency table (observed frequencies)\n",
        "data = np.array([[50, 30],  # Group 1 (e.g., Yes/No)\n",
        "                 [20, 40]])  # Group 2\n",
        "\n",
        "# Perform Chi-squared test\n",
        "chi2, p, dof, expected = chi2_contingency(data)\n",
        "\n",
        "print(\"Chi-squared Statistic:\", chi2)\n",
        "print(\"P-value:\", p)\n",
        "print(\"Degrees of Freedom:\", dof)\n",
        "print(\"Expected Frequencies:\")\n",
        "print(expected)\n",
        "\n",
        "if p < 0.05:\n",
        "    print(\"Reject the null hypothesis: Variables are dependent.\")\n",
        "else:\n",
        "    print(\"Fail to reject the null hypothesis: Variables are independent.\")\n"
      ],
      "metadata": {
        "id": "1Bkdzo3NQs7d",
        "outputId": "19376bd2-3884-4551-f8f2-f557f3059f5b",
        "colab": {
          "base_uri": "https://localhost:8080/"
        }
      },
      "execution_count": 4,
      "outputs": [
        {
          "output_type": "stream",
          "name": "stdout",
          "text": [
            "Chi-squared Statistic: 10.529166666666667\n",
            "P-value: 0.0011750518530845063\n",
            "Degrees of Freedom: 1\n",
            "Expected Frequencies:\n",
            "[[40. 40.]\n",
            " [30. 30.]]\n",
            "Reject the null hypothesis: Variables are dependent.\n"
          ]
        }
      ]
    },
    {
      "cell_type": "markdown",
      "source": [
        "ANOVA (Analysis of Variance)\n",
        "ANOVA is used to compare means of three or more groups."
      ],
      "metadata": {
        "id": "AwiJN6-FQ3qr"
      }
    },
    {
      "cell_type": "code",
      "source": [
        "from scipy.stats import f_oneway\n",
        "\n",
        "# Example: Data for three groups\n",
        "group1 = [20, 21, 19, 22, 20]\n",
        "group2 = [30, 29, 31, 32, 30]\n",
        "group3 = [40, 39, 41, 42, 40]\n",
        "\n",
        "# Perform one-way ANOVA\n",
        "f_stat, p_value = f_oneway(group1, group2, group3)\n",
        "\n",
        "print(\"F-statistic:\", f_stat)\n",
        "print(\"P-value:\", p_value)\n",
        "\n",
        "if p_value < 0.05:\n",
        "    print(\"Reject the null hypothesis: At least one group mean is different.\")\n",
        "else:\n",
        "    print(\"Fail to reject the null hypothesis: All group means are equal.\")\n"
      ],
      "metadata": {
        "id": "loiGIFvWQ8Pq",
        "outputId": "0af5296e-f22a-442d-b42b-d10d326916f4",
        "colab": {
          "base_uri": "https://localhost:8080/"
        }
      },
      "execution_count": 5,
      "outputs": [
        {
          "output_type": "stream",
          "name": "stdout",
          "text": [
            "F-statistic: 384.61538461538123\n",
            "P-value: 1.3134436249241147e-11\n",
            "Reject the null hypothesis: At least one group mean is different.\n"
          ]
        }
      ]
    },
    {
      "cell_type": "markdown",
      "source": [
        "T-test\n",
        "The T-test is used to compare means between two groups.\n",
        "\n",
        "(a) One-sample T-test"
      ],
      "metadata": {
        "id": "YTmsv7TiRBLw"
      }
    },
    {
      "cell_type": "code",
      "source": [
        "from scipy.stats import ttest_1samp\n",
        "\n",
        "# Example: Data and population mean\n",
        "data = [22, 21, 20, 23, 24, 25]\n",
        "pop_mean = 20\n",
        "\n",
        "# Perform one-sample T-test\n",
        "t_stat, p_value = ttest_1samp(data, pop_mean)\n",
        "\n",
        "print(\"T-statistic:\", t_stat)\n",
        "print(\"P-value:\", p_value)\n",
        "\n",
        "if p_value < 0.05:\n",
        "    print(\"Reject the null hypothesis: Sample mean is significantly different from population mean.\")\n",
        "else:\n",
        "    print(\"Fail to reject the null hypothesis: No significant difference.\")\n"
      ],
      "metadata": {
        "id": "ySTgSOmDRGVs",
        "outputId": "a6b77c93-2b9d-4187-a90d-a8284f9047fe",
        "colab": {
          "base_uri": "https://localhost:8080/"
        }
      },
      "execution_count": 6,
      "outputs": [
        {
          "output_type": "stream",
          "name": "stdout",
          "text": [
            "T-statistic: 3.273268353539886\n",
            "P-value: 0.022118466722329432\n",
            "Reject the null hypothesis: Sample mean is significantly different from population mean.\n"
          ]
        }
      ]
    },
    {
      "cell_type": "markdown",
      "source": [
        "(b) Two-sample T-test (Independent samples)"
      ],
      "metadata": {
        "id": "AjQ5Ax6zRJTB"
      }
    },
    {
      "cell_type": "code",
      "source": [
        "from scipy.stats import ttest_ind\n",
        "\n",
        "# Example: Data for two independent groups\n",
        "group1 = [22, 23, 24, 25, 26]\n",
        "group2 = [30, 29, 28, 27, 31]\n",
        "\n",
        "# Perform independent two-sample T-test\n",
        "t_stat, p_value = ttest_ind(group1, group2)\n",
        "\n",
        "print(\"T-statistic:\", t_stat)\n",
        "print(\"P-value:\", p_value)\n",
        "\n",
        "if p_value < 0.05:\n",
        "    print(\"Reject the null hypothesis: Group means are significantly different.\")\n",
        "else:\n",
        "    print(\"Fail to reject the null hypothesis: No significant difference between group means.\")\n"
      ],
      "metadata": {
        "id": "DQpOlxGVRMPk",
        "outputId": "ae2e3d13-440d-49fe-f05d-ceed7ee9c789",
        "colab": {
          "base_uri": "https://localhost:8080/"
        }
      },
      "execution_count": 7,
      "outputs": [
        {
          "output_type": "stream",
          "name": "stdout",
          "text": [
            "T-statistic: -5.0\n",
            "P-value: 0.001052825793366539\n",
            "Reject the null hypothesis: Group means are significantly different.\n"
          ]
        }
      ]
    },
    {
      "cell_type": "markdown",
      "source": [
        "Z-test\n",
        "Z-tests are used for large sample sizes or known population variance.\n"
      ],
      "metadata": {
        "id": "_o2gddQFRRNA"
      }
    },
    {
      "cell_type": "code",
      "source": [
        "from statsmodels.stats.weightstats import ztest\n",
        "\n",
        "# Example: Data for one sample\n",
        "data = [100, 102, 98, 101, 97, 99, 100]\n",
        "pop_mean = 100\n",
        "\n",
        "# Perform one-sample Z-test\n",
        "z_stat, p_value = ztest(data, value=pop_mean)\n",
        "\n",
        "print(\"Z-statistic:\", z_stat)\n",
        "print(\"P-value:\", p_value)\n",
        "\n",
        "if p_value < 0.05:\n",
        "    print(\"Reject the null hypothesis: Sample mean is significantly different from population mean.\")\n",
        "else:\n",
        "    print(\"Fail to reject the null hypothesis: No significant difference.\")\n"
      ],
      "metadata": {
        "id": "22tyU9noRXCb",
        "outputId": "53e91130-3794-44ac-b46e-d6d883e4ed2b",
        "colab": {
          "base_uri": "https://localhost:8080/"
        }
      },
      "execution_count": 8,
      "outputs": [
        {
          "output_type": "stream",
          "name": "stdout",
          "text": [
            "Z-statistic: -0.659912017596093\n",
            "P-value: 0.5093102917194883\n",
            "Fail to reject the null hypothesis: No significant difference.\n"
          ]
        }
      ]
    }
  ]
}